{
  "nbformat": 4,
  "nbformat_minor": 0,
  "metadata": {
    "colab": {
      "name": "code.ipynb",
      "provenance": [],
      "authorship_tag": "ABX9TyN2iHSU87sBvLrpHEaUc58f",
      "include_colab_link": true
    },
    "kernelspec": {
      "name": "python3",
      "display_name": "Python 3"
    },
    "language_info": {
      "name": "python"
    }
  },
  "cells": [
    {
      "cell_type": "markdown",
      "metadata": {
        "id": "view-in-github",
        "colab_type": "text"
      },
      "source": [
        "<a href=\"https://colab.research.google.com/github/nabeelbaghoor/Encryption-Decryption-of-list-using-Chain-of-Decorators/blob/main/code.ipynb\" target=\"_parent\"><img src=\"https://colab.research.google.com/assets/colab-badge.svg\" alt=\"Open In Colab\"/></a>"
      ]
    },
    {
      "cell_type": "markdown",
      "metadata": {
        "id": "4vaHNIV_DzzR"
      },
      "source": [
        "## **Encryption/Decryption of list using Chain of Decorators**"
      ]
    },
    {
      "cell_type": "code",
      "metadata": {
        "colab": {
          "base_uri": "https://localhost:8080/"
        },
        "id": "xuMjs0t_CJO8",
        "outputId": "d9c74fa8-0bc4-45dc-d54c-1b7d54d29b70"
      },
      "source": [
        "#Code for Encryption\n",
        "def addIndex(encryptedIntList):\n",
        "    def encrypted(_list):\n",
        "        intList = encryptedIntList(_list)\n",
        "        for i in range(0,len(intList),2):\n",
        "          intList[i] += i\n",
        "        return intList\n",
        "    return encrypted\n",
        "\n",
        "def addFive(encryptedIntList):\n",
        "    def encrypted(_list):\n",
        "        intList = encryptedIntList(_list)\n",
        "        for i in range(1,len(intList),2):\n",
        "          intList[i] += 5\n",
        "        return intList\n",
        "    return encrypted\n",
        "\n",
        "@addIndex\n",
        "@addFive\n",
        "def encryptedIntList(_list):\n",
        "    return _list\n",
        "\n",
        "#Code for Decryption\n",
        "def removeIndex(decryptedIntList):\n",
        "    def encrypted(_list):\n",
        "        intList = decryptedIntList(_list)\n",
        "        for i in range(0,len(intList),2):\n",
        "          intList[i] -= i\n",
        "        return intList\n",
        "    return encrypted\n",
        "\n",
        "def removeFive(decryptedIntList):\n",
        "    def encrypted(_list):\n",
        "        intList = decryptedIntList(_list)\n",
        "        for i in range(1,len(intList),2):\n",
        "          intList[i] -= 5\n",
        "        return intList\n",
        "    return encrypted\n",
        "\n",
        "@removeIndex\n",
        "@removeFive\n",
        "def decryptedIntList(_list):\n",
        "    return _list\n",
        "\n",
        "actualList = [5,4,7,3,4,2,1,3,8,9]\n",
        "print(\"Actual List:\\t\" + str(actualList))\n",
        "\n",
        "encryptedList = encryptedIntList(actualList)\n",
        "print(\"Encrypted List:\\t\" + str(encryptedList))\n",
        "\n",
        "decryptedList = decryptedIntList(encryptedList)\n",
        "print(\"Decrypted List:\\t\" + str(decryptedList))"
      ],
      "execution_count": 1,
      "outputs": [
        {
          "output_type": "stream",
          "text": [
            "Actual List:\t[5, 4, 7, 3, 4, 2, 1, 3, 8, 9]\n",
            "Encrypted List:\t[5, 9, 9, 8, 8, 7, 7, 8, 16, 14]\n",
            "Decrypted List:\t[5, 4, 7, 3, 4, 2, 1, 3, 8, 9]\n"
          ],
          "name": "stdout"
        }
      ]
    }
  ]
}